{
 "cells": [
  {
   "cell_type": "markdown",
   "metadata": {},
   "source": [
    "## Load and clean data"
   ]
  },
  {
   "cell_type": "code",
   "execution_count": 1,
   "metadata": {},
   "outputs": [
    {
     "data": {
      "text/html": [
       "<div>\n",
       "<style scoped>\n",
       "    .dataframe tbody tr th:only-of-type {\n",
       "        vertical-align: middle;\n",
       "    }\n",
       "\n",
       "    .dataframe tbody tr th {\n",
       "        vertical-align: top;\n",
       "    }\n",
       "\n",
       "    .dataframe thead th {\n",
       "        text-align: right;\n",
       "    }\n",
       "</style>\n",
       "<table border=\"1\" class=\"dataframe\">\n",
       "  <thead>\n",
       "    <tr style=\"text-align: right;\">\n",
       "      <th></th>\n",
       "      <th>assignmentToken</th>\n",
       "      <th>clientMetadataType</th>\n",
       "      <th>measurementUnit</th>\n",
       "      <th>name</th>\n",
       "      <th>value</th>\n",
       "      <th>measurementDate</th>\n",
       "      <th>measurementId</th>\n",
       "    </tr>\n",
       "  </thead>\n",
       "  <tbody>\n",
       "    <tr>\n",
       "      <td>0</td>\n",
       "      <td>d05f8ccc-c631-4234-811a-fc33dbba7d1d</td>\n",
       "      <td>Kitchen Motion Sensor</td>\n",
       "      <td></td>\n",
       "      <td>Kitchen motion</td>\n",
       "      <td>1.0</td>\n",
       "      <td>2019-09-30T21:00:01.787Z</td>\n",
       "      <td>bulgrarAlarm</td>\n",
       "    </tr>\n",
       "    <tr>\n",
       "      <td>1</td>\n",
       "      <td>47b512cd-0513-42a9-93c5-b0d0986e9994</td>\n",
       "      <td>Livingroom Motion Sensor</td>\n",
       "      <td></td>\n",
       "      <td>Living room motion</td>\n",
       "      <td>0.0</td>\n",
       "      <td>2019-09-30T21:00:26.617Z</td>\n",
       "      <td>bulgrarAlarm</td>\n",
       "    </tr>\n",
       "    <tr>\n",
       "      <td>2</td>\n",
       "      <td>d05f8ccc-c631-4234-811a-fc33dbba7d1d</td>\n",
       "      <td>Kitchen Motion Sensor</td>\n",
       "      <td></td>\n",
       "      <td>Kitchen motion</td>\n",
       "      <td>0.0</td>\n",
       "      <td>2019-09-30T21:00:32.499Z</td>\n",
       "      <td>bulgrarAlarm</td>\n",
       "    </tr>\n",
       "    <tr>\n",
       "      <td>3</td>\n",
       "      <td>d05f8ccc-c631-4234-811a-fc33dbba7d1d</td>\n",
       "      <td>Kitchen Motion Sensor</td>\n",
       "      <td></td>\n",
       "      <td>Kitchen motion</td>\n",
       "      <td>1.0</td>\n",
       "      <td>2019-09-30T21:00:36.592Z</td>\n",
       "      <td>bulgrarAlarm</td>\n",
       "    </tr>\n",
       "    <tr>\n",
       "      <td>4</td>\n",
       "      <td>47b512cd-0513-42a9-93c5-b0d0986e9994</td>\n",
       "      <td>Livingroom Motion Sensor</td>\n",
       "      <td></td>\n",
       "      <td>Living room motion</td>\n",
       "      <td>1.0</td>\n",
       "      <td>2019-09-30T21:01:37.597Z</td>\n",
       "      <td>bulgrarAlarm</td>\n",
       "    </tr>\n",
       "    <tr>\n",
       "      <td>...</td>\n",
       "      <td>...</td>\n",
       "      <td>...</td>\n",
       "      <td>...</td>\n",
       "      <td>...</td>\n",
       "      <td>...</td>\n",
       "      <td>...</td>\n",
       "      <td>...</td>\n",
       "    </tr>\n",
       "    <tr>\n",
       "      <td>4352</td>\n",
       "      <td>47b512cd-0513-42a9-93c5-b0d0986e9994</td>\n",
       "      <td>Livingroom Motion Sensor</td>\n",
       "      <td></td>\n",
       "      <td>Living room motion</td>\n",
       "      <td>1.0</td>\n",
       "      <td>2019-10-11T06:18:12.005Z</td>\n",
       "      <td>bulgrarAlarm</td>\n",
       "    </tr>\n",
       "    <tr>\n",
       "      <td>4353</td>\n",
       "      <td>ed318dfb-a625-475c-9e18-243da7ef0173</td>\n",
       "      <td>Bedroom Motion Sensor</td>\n",
       "      <td></td>\n",
       "      <td>Bedroom motion</td>\n",
       "      <td>0.0</td>\n",
       "      <td>2019-10-11T06:18:18.948Z</td>\n",
       "      <td>bulgrarAlarm</td>\n",
       "    </tr>\n",
       "    <tr>\n",
       "      <td>4354</td>\n",
       "      <td>4674e421-bbe0-4a39-b65c-166709f2a494</td>\n",
       "      <td>Bathroom Motion Sensor</td>\n",
       "      <td></td>\n",
       "      <td>Bathroom motion</td>\n",
       "      <td>0.0</td>\n",
       "      <td>2019-10-11T06:18:20.077Z</td>\n",
       "      <td>bulgrarAlarm</td>\n",
       "    </tr>\n",
       "    <tr>\n",
       "      <td>4355</td>\n",
       "      <td>47b512cd-0513-42a9-93c5-b0d0986e9994</td>\n",
       "      <td>Livingroom Motion Sensor</td>\n",
       "      <td></td>\n",
       "      <td>Living room motion</td>\n",
       "      <td>0.0</td>\n",
       "      <td>2019-10-11T06:19:20.364Z</td>\n",
       "      <td>bulgrarAlarm</td>\n",
       "    </tr>\n",
       "    <tr>\n",
       "      <td>4356</td>\n",
       "      <td>ed318dfb-a625-475c-9e18-243da7ef0173</td>\n",
       "      <td>Bedroom Motion Sensor</td>\n",
       "      <td>Β°C</td>\n",
       "      <td>Bedroom motion</td>\n",
       "      <td>23.6</td>\n",
       "      <td>2019-10-11T06:44:58.304Z</td>\n",
       "      <td>temperature</td>\n",
       "    </tr>\n",
       "  </tbody>\n",
       "</table>\n",
       "<p>4357 rows × 7 columns</p>\n",
       "</div>"
      ],
      "text/plain": [
       "                           assignmentToken        clientMetadataType  \\\n",
       "0     d05f8ccc-c631-4234-811a-fc33dbba7d1d     Kitchen Motion Sensor   \n",
       "1     47b512cd-0513-42a9-93c5-b0d0986e9994  Livingroom Motion Sensor   \n",
       "2     d05f8ccc-c631-4234-811a-fc33dbba7d1d     Kitchen Motion Sensor   \n",
       "3     d05f8ccc-c631-4234-811a-fc33dbba7d1d     Kitchen Motion Sensor   \n",
       "4     47b512cd-0513-42a9-93c5-b0d0986e9994  Livingroom Motion Sensor   \n",
       "...                                    ...                       ...   \n",
       "4352  47b512cd-0513-42a9-93c5-b0d0986e9994  Livingroom Motion Sensor   \n",
       "4353  ed318dfb-a625-475c-9e18-243da7ef0173     Bedroom Motion Sensor   \n",
       "4354  4674e421-bbe0-4a39-b65c-166709f2a494    Bathroom Motion Sensor   \n",
       "4355  47b512cd-0513-42a9-93c5-b0d0986e9994  Livingroom Motion Sensor   \n",
       "4356  ed318dfb-a625-475c-9e18-243da7ef0173     Bedroom Motion Sensor   \n",
       "\n",
       "     measurementUnit                name  value           measurementDate  \\\n",
       "0                         Kitchen motion    1.0  2019-09-30T21:00:01.787Z   \n",
       "1                     Living room motion    0.0  2019-09-30T21:00:26.617Z   \n",
       "2                         Kitchen motion    0.0  2019-09-30T21:00:32.499Z   \n",
       "3                         Kitchen motion    1.0  2019-09-30T21:00:36.592Z   \n",
       "4                     Living room motion    1.0  2019-09-30T21:01:37.597Z   \n",
       "...              ...                 ...    ...                       ...   \n",
       "4352                  Living room motion    1.0  2019-10-11T06:18:12.005Z   \n",
       "4353                      Bedroom motion    0.0  2019-10-11T06:18:18.948Z   \n",
       "4354                     Bathroom motion    0.0  2019-10-11T06:18:20.077Z   \n",
       "4355                  Living room motion    0.0  2019-10-11T06:19:20.364Z   \n",
       "4356             Β°C      Bedroom motion   23.6  2019-10-11T06:44:58.304Z   \n",
       "\n",
       "     measurementId  \n",
       "0     bulgrarAlarm  \n",
       "1     bulgrarAlarm  \n",
       "2     bulgrarAlarm  \n",
       "3     bulgrarAlarm  \n",
       "4     bulgrarAlarm  \n",
       "...            ...  \n",
       "4352  bulgrarAlarm  \n",
       "4353  bulgrarAlarm  \n",
       "4354  bulgrarAlarm  \n",
       "4355  bulgrarAlarm  \n",
       "4356   temperature  \n",
       "\n",
       "[4357 rows x 7 columns]"
      ]
     },
     "execution_count": 1,
     "metadata": {},
     "output_type": "execute_result"
    }
   ],
   "source": [
    "import pandas as pd\n",
    "\n",
    "# Load and print data\n",
    "df = pd.read_json('data.json')\n",
    "df"
   ]
  },
  {
   "cell_type": "code",
   "execution_count": 2,
   "metadata": {},
   "outputs": [
    {
     "name": "stdout",
     "output_type": "stream",
     "text": [
      "assignmentToken       0\n",
      "clientMetadataType    0\n",
      "measurementUnit       0\n",
      "name                  0\n",
      "value                 0\n",
      "measurementDate       0\n",
      "measurementId         0\n",
      "dtype: int64\n"
     ]
    }
   ],
   "source": [
    "# Check if we have null values\n",
    "print(df.isnull().sum())"
   ]
  },
  {
   "cell_type": "code",
   "execution_count": 3,
   "metadata": {},
   "outputs": [
    {
     "name": "stdout",
     "output_type": "stream",
     "text": [
      " Unique values of assignmentToken: ['d05f8ccc-c631-4234-811a-fc33dbba7d1d'\n",
      " '47b512cd-0513-42a9-93c5-b0d0986e9994'\n",
      " '4674e421-bbe0-4a39-b65c-166709f2a494'\n",
      " 'ed318dfb-a625-475c-9e18-243da7ef0173'\n",
      " 'f76a234b-2d52-456c-88d6-43de07614236'] \n",
      " \n",
      " Unique values of clientMetadataType: ['Kitchen Motion Sensor' 'Livingroom Motion Sensor'\n",
      " 'Bathroom Motion Sensor' 'Bedroom Motion Sensor' 'Other'] \n",
      " \n",
      " Unique values of measurementUnit: ['' 'Β°C'] \n",
      " \n",
      " Unique values of name: ['Kitchen motion' 'Living room motion' 'Bathroom motion' 'Bedroom motion'\n",
      " 'Door sensor'] \n",
      " \n",
      " Unique values of measurementUnit: ['bulgrarAlarm' 'temperature' 'doorAlarm']\n"
     ]
    }
   ],
   "source": [
    "# Print unique values\n",
    "print(' Unique values of assignmentToken:',df['assignmentToken'].unique(), '\\n', '\\n',\n",
    "      'Unique values of clientMetadataType:',df['clientMetadataType'].unique(), '\\n', '\\n',\n",
    "      'Unique values of measurementUnit:',df['measurementUnit'].unique(), '\\n','\\n',\n",
    "     'Unique values of name:',df['name'].unique(), '\\n', '\\n',\n",
    "      'Unique values of measurementUnit:',df['measurementId'].unique())"
   ]
  },
  {
   "cell_type": "code",
   "execution_count": 4,
   "metadata": {},
   "outputs": [],
   "source": [
    "# Convert measurementDate to datetime format and skip milleseconds\n",
    "df['measurementDate'] = df['measurementDate'].astype('datetime64[s]')"
   ]
  },
  {
   "cell_type": "code",
   "execution_count": 5,
   "metadata": {},
   "outputs": [],
   "source": [
    "# Seems like the door's sensor, when is first triggered it has value 0 (not 1 like the other sensors), let's switch it\n",
    "df.loc[df['name'] == 'Door sensor', 'value'] = df.loc[df['name'] == 'Door sensor', 'value'].replace({1:0, 0:1})"
   ]
  },
  {
   "cell_type": "code",
   "execution_count": 6,
   "metadata": {},
   "outputs": [],
   "source": [
    "# Convert assignmentToken values to numerical codes\n",
    "df['assignmentToken'] = df['assignmentToken'].astype('category').cat.codes"
   ]
  },
  {
   "cell_type": "markdown",
   "metadata": {},
   "source": [
    "### Find all columns that don't provide any kind of information"
   ]
  },
  {
   "cell_type": "code",
   "execution_count": 7,
   "metadata": {},
   "outputs": [
    {
     "name": "stdout",
     "output_type": "stream",
     "text": [
      "Whenever measurementId is temperature, the measurementUnit is Β°C. So the measurementUnit column is unnecessary\n"
     ]
    }
   ],
   "source": [
    "# measurementUnit\n",
    "if df[df['measurementId'] == 'temperature'].equals(df[df['measurementUnit'] == 'Β°C']):\n",
    "    print('Whenever measurementId is temperature, the measurementUnit is Β°C. So the measurementUnit column is unnecessary')\n",
    "    df = df.drop(['measurementUnit'], axis=1)"
   ]
  },
  {
   "cell_type": "code",
   "execution_count": 8,
   "metadata": {},
   "outputs": [
    {
     "data": {
      "text/html": [
       "<div>\n",
       "<style scoped>\n",
       "    .dataframe tbody tr th:only-of-type {\n",
       "        vertical-align: middle;\n",
       "    }\n",
       "\n",
       "    .dataframe tbody tr th {\n",
       "        vertical-align: top;\n",
       "    }\n",
       "\n",
       "    .dataframe thead th {\n",
       "        text-align: right;\n",
       "    }\n",
       "</style>\n",
       "<table border=\"1\" class=\"dataframe\">\n",
       "  <thead>\n",
       "    <tr style=\"text-align: right;\">\n",
       "      <th></th>\n",
       "      <th>assignmentToken</th>\n",
       "      <th>value</th>\n",
       "      <th>measurementDate</th>\n",
       "      <th>measurementId</th>\n",
       "    </tr>\n",
       "  </thead>\n",
       "  <tbody>\n",
       "    <tr>\n",
       "      <td>0</td>\n",
       "      <td>2</td>\n",
       "      <td>1.0</td>\n",
       "      <td>2019-09-30 21:00:01</td>\n",
       "      <td>bulgrarAlarm</td>\n",
       "    </tr>\n",
       "    <tr>\n",
       "      <td>1</td>\n",
       "      <td>1</td>\n",
       "      <td>0.0</td>\n",
       "      <td>2019-09-30 21:00:26</td>\n",
       "      <td>bulgrarAlarm</td>\n",
       "    </tr>\n",
       "    <tr>\n",
       "      <td>2</td>\n",
       "      <td>2</td>\n",
       "      <td>0.0</td>\n",
       "      <td>2019-09-30 21:00:32</td>\n",
       "      <td>bulgrarAlarm</td>\n",
       "    </tr>\n",
       "    <tr>\n",
       "      <td>3</td>\n",
       "      <td>2</td>\n",
       "      <td>1.0</td>\n",
       "      <td>2019-09-30 21:00:36</td>\n",
       "      <td>bulgrarAlarm</td>\n",
       "    </tr>\n",
       "    <tr>\n",
       "      <td>4</td>\n",
       "      <td>1</td>\n",
       "      <td>1.0</td>\n",
       "      <td>2019-09-30 21:01:37</td>\n",
       "      <td>bulgrarAlarm</td>\n",
       "    </tr>\n",
       "    <tr>\n",
       "      <td>...</td>\n",
       "      <td>...</td>\n",
       "      <td>...</td>\n",
       "      <td>...</td>\n",
       "      <td>...</td>\n",
       "    </tr>\n",
       "    <tr>\n",
       "      <td>4352</td>\n",
       "      <td>1</td>\n",
       "      <td>1.0</td>\n",
       "      <td>2019-10-11 06:18:12</td>\n",
       "      <td>bulgrarAlarm</td>\n",
       "    </tr>\n",
       "    <tr>\n",
       "      <td>4353</td>\n",
       "      <td>3</td>\n",
       "      <td>0.0</td>\n",
       "      <td>2019-10-11 06:18:18</td>\n",
       "      <td>bulgrarAlarm</td>\n",
       "    </tr>\n",
       "    <tr>\n",
       "      <td>4354</td>\n",
       "      <td>0</td>\n",
       "      <td>0.0</td>\n",
       "      <td>2019-10-11 06:18:20</td>\n",
       "      <td>bulgrarAlarm</td>\n",
       "    </tr>\n",
       "    <tr>\n",
       "      <td>4355</td>\n",
       "      <td>1</td>\n",
       "      <td>0.0</td>\n",
       "      <td>2019-10-11 06:19:20</td>\n",
       "      <td>bulgrarAlarm</td>\n",
       "    </tr>\n",
       "    <tr>\n",
       "      <td>4356</td>\n",
       "      <td>3</td>\n",
       "      <td>23.6</td>\n",
       "      <td>2019-10-11 06:44:58</td>\n",
       "      <td>temperature</td>\n",
       "    </tr>\n",
       "  </tbody>\n",
       "</table>\n",
       "<p>4357 rows × 4 columns</p>\n",
       "</div>"
      ],
      "text/plain": [
       "      assignmentToken  value     measurementDate measurementId\n",
       "0                   2    1.0 2019-09-30 21:00:01  bulgrarAlarm\n",
       "1                   1    0.0 2019-09-30 21:00:26  bulgrarAlarm\n",
       "2                   2    0.0 2019-09-30 21:00:32  bulgrarAlarm\n",
       "3                   2    1.0 2019-09-30 21:00:36  bulgrarAlarm\n",
       "4                   1    1.0 2019-09-30 21:01:37  bulgrarAlarm\n",
       "...               ...    ...                 ...           ...\n",
       "4352                1    1.0 2019-10-11 06:18:12  bulgrarAlarm\n",
       "4353                3    0.0 2019-10-11 06:18:18  bulgrarAlarm\n",
       "4354                0    0.0 2019-10-11 06:18:20  bulgrarAlarm\n",
       "4355                1    0.0 2019-10-11 06:19:20  bulgrarAlarm\n",
       "4356                3   23.6 2019-10-11 06:44:58   temperature\n",
       "\n",
       "[4357 rows x 4 columns]"
      ]
     },
     "execution_count": 8,
     "metadata": {},
     "output_type": "execute_result"
    }
   ],
   "source": [
    "# assignmentToken / clientMetadataType / name, seem to be the same thing\n",
    "import numpy as np\n",
    "\n",
    "df_test = df.copy()\n",
    "\n",
    "df_test['clientMetadataType'] = df_test['clientMetadataType'].map({'Other': 4, 'Bedroom Motion Sensor': 3, \n",
    "                                                         'Kitchen Motion Sensor': 2, 'Livingroom Motion Sensor': 1, \n",
    "                                                         'Bathroom Motion Sensor': 0})\n",
    "\n",
    "df2 = df_test.loc[np.all(df[['assignmentToken']].values == df_test[['clientMetadataType']].values, axis=1),:]\n",
    "if len(df2)==len(df):\n",
    "    df = df.drop(['clientMetadataType'], axis=1)\n",
    "    \n",
    "df_test['name'] = df_test['name'].map({'Door sensor': 4, 'Bedroom motion': 3, 'Kitchen motion': 2, \n",
    "                             'Living room motion': 1, 'Bathroom motion': 0})\n",
    "\n",
    "df3 = df_test.loc[np.all(df[['assignmentToken']].values == df_test[['name']].values, axis=1),:]\n",
    "if len(df2)==len(df):\n",
    "    df = df.drop(['name'], axis=1)\n",
    "\n",
    "df"
   ]
  },
  {
   "cell_type": "markdown",
   "metadata": {},
   "source": [
    "## Find KPIs (Key Performance Indicators)"
   ]
  },
  {
   "cell_type": "code",
   "execution_count": 9,
   "metadata": {},
   "outputs": [],
   "source": [
    "import datetime as dt\n",
    "\n",
    "temp_datetime = None\n",
    "previous_sensor= None\n",
    "\n",
    "# Save time spend in room\n",
    "total_time_spend = [0]*5\n",
    "cur_date_time_spend = [0]*5\n",
    "\n",
    "# Save number of room changes\n",
    "n_of_room_changes=0\n",
    "\n",
    "# Try to find when he goes to sleep and when he wakes up\n",
    "last_lr_motion = None\n",
    "sleep_time= []\n",
    "wake_time = []\n",
    "\n",
    "df = df.loc[(df['value']==1) & (df['measurementId']!='temperature')] # Get only non-temperature rows that have value 1\n",
    "\n",
    "for date in df['measurementDate'].dt.date.unique(): # Iterate through dates\n",
    "    for index, values in df[df['measurementDate'].dt.date == date].iterrows(): # Iterate through each day's rows\n",
    "        current_sensor = values['assignmentToken']\n",
    "        datetime=values['measurementDate']\n",
    "        \n",
    "        # Add time for the previous activity\n",
    "        if previous_sensor != None:\n",
    "            cur_date_time_spend[previous_sensor] += pd.Timedelta(datetime-temp_datetime).seconds\n",
    "        \n",
    "        # If there was no living room motion detected for 4 hours, user went to sleep (these works on our data correctly)\n",
    "        if current_sensor==1: #Living Room\n",
    "            if last_lr_motion!=None and previous_sensor!=1 and pd.Timedelta(datetime-last_lr_motion).seconds>3600*4:\n",
    "                sleep_time.append(last_lr_motion.strftime('%H:%M:%S'))\n",
    "                wake_time.append(datetime.strftime('%H:%M:%S'))\n",
    "            last_lr_motion=datetime\n",
    "            \n",
    "        # Change the previous sensor, and add 1 to number of room changes\n",
    "        temp_datetime=datetime\n",
    "        if previous_sensor!=current_sensor:\n",
    "            previous_sensor=current_sensor\n",
    "            n_of_room_changes+=1           \n",
    "    \n",
    "    # Add time till midnight\n",
    "    midnight = temp_datetime.to_pydatetime().combine(temp_datetime + \n",
    "                                                     dt.timedelta(days=1), dt.time(0))\n",
    "\n",
    "    cur_date_time_spend[previous_sensor] += pd.Timedelta(midnight-temp_datetime).seconds\n",
    "    \n",
    "    # Add current date's times to total times           \n",
    "    for x in range(5):\n",
    "        total_time_spend[x] += cur_date_time_spend[x]\n",
    "           \n",
    "    # We do this, so the next day, we have the difference between the first trigger and midnight\n",
    "    temp_datetime = midnight \n",
    "    \n",
    "    # Reset current date times\n",
    "    cur_date_time_spend = [0]*5"
   ]
  },
  {
   "cell_type": "markdown",
   "metadata": {},
   "source": [
    "### KPI 1: Room's average time"
   ]
  },
  {
   "cell_type": "code",
   "execution_count": 10,
   "metadata": {},
   "outputs": [
    {
     "data": {
      "image/png": "[encoded data removed]",
      "text/plain": [
       "<Figure size 432x288 with 1 Axes>"
      ]
     },
     "metadata": {},
     "output_type": "display_data"
    }
   ],
   "source": [
    "%matplotlib inline\n",
    "import matplotlib.pyplot as plt\n",
    "\n",
    "n_of_days=len(df['measurementDate'].dt.date.unique())\n",
    "labels = ['Bathroom', 'Living Room', 'Kitchen', 'Bedroom', 'Outside']\n",
    "\n",
    "for x in range(5):\n",
    "    seconds=int(total_time_spend[x]/n_of_days)\n",
    "    labels[x] += ' (' + str(dt.timedelta(seconds=seconds)) + ')'\n",
    "\n",
    "plt.title('Average time in every room')\n",
    "plt.pie(total_time_spend, labels=labels)\n",
    "plt.show()"
   ]
  },
  {
   "cell_type": "markdown",
   "metadata": {},
   "source": [
    "### KPI 2: Average room changes"
   ]
  },
  {
   "cell_type": "code",
   "execution_count": 11,
   "metadata": {},
   "outputs": [
    {
     "name": "stdout",
     "output_type": "stream",
     "text": [
      "There are 77 room changes on average per day\n"
     ]
    }
   ],
   "source": [
    "print('There are', int(n_of_room_changes/n_of_days), 'room changes on average per day')"
   ]
  },
  {
   "cell_type": "markdown",
   "metadata": {},
   "source": [
    "### KPI 3: Average time he/she goes to sleep/wakes up"
   ]
  },
  {
   "cell_type": "code",
   "execution_count": 12,
   "metadata": {},
   "outputs": [],
   "source": [
    "# This code is from https://stackoverflow.com/a/52839039/689617\n",
    "# It calculates the mean between a list of timestamps. (e.g mean of 23:00,00:00,01:00 should be 00:00 and not 08:00)\n",
    "\n",
    "from cmath import rect, phase\n",
    "from math import radians, degrees\n",
    "\n",
    "def meanAngle(deg):\n",
    "    complexDegree = sum(rect(1, radians(d)) for d in deg) / len(deg)\n",
    "    argument = phase(complexDegree)\n",
    "    meanAngle = degrees(argument)\n",
    "    return meanAngle\n",
    "\n",
    "def meanTime(times):\n",
    "    t = (time.split(':') for time in times)\n",
    "    seconds = ((float(s) + int(m) * 60 + int(h) * 3600) \n",
    "               for h, m, s in t)\n",
    "    day = 24 * 60 * 60\n",
    "    toAngles = [s * 360. / day for s in seconds]\n",
    "    meanAsAngle = meanAngle(toAngles)\n",
    "    meanSeconds = meanAsAngle * day / 360.\n",
    "    if meanSeconds < 0:\n",
    "        meanSeconds += day\n",
    "    h, m = divmod(meanSeconds, 3600)\n",
    "    m, s = divmod(m, 60)\n",
    "    return('%02i:%02i:%02i' % (h, m, s))"
   ]
  },
  {
   "cell_type": "code",
   "execution_count": 13,
   "metadata": {},
   "outputs": [
    {
     "name": "stdout",
     "output_type": "stream",
     "text": [
      "Average time he/she goes to sleep: 22:59:43\n",
      "Average time he/she wakes up: 06:33:16\n"
     ]
    }
   ],
   "source": [
    "print('Average time he/she goes to sleep:', meanTime(sleep_time))\n",
    "print('Average time he/she wakes up:', meanTime(wake_time))"
   ]
  },
  {
   "cell_type": "code",
   "execution_count": null,
   "metadata": {},
   "outputs": [],
   "source": []
  }
 ],
 "metadata": {
  "kernelspec": {
   "display_name": "Python 3",
   "language": "python",
   "name": "python3"
  },
  "language_info": {
   "codemirror_mode": {
    "name": "ipython",
    "version": 3
   },
   "file_extension": ".py",
   "mimetype": "text/x-python",
   "name": "python",
   "nbconvert_exporter": "python",
   "pygments_lexer": "ipython3",
   "version": "3.7.4"
  }
 },
 "nbformat": 4,
 "nbformat_minor": 2
}
